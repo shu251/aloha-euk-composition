{
 "cells": [
  {
   "cell_type": "markdown",
   "metadata": {},
   "source": [
    "### Re-calculate DNA and RNA sequence abundances for diel dataset - for Coesel et al.\n",
    "SKH - 21-07-2020"
   ]
  },
  {
   "cell_type": "code",
   "execution_count": 1,
   "metadata": {},
   "outputs": [
    {
     "name": "stderr",
     "output_type": "stream",
     "text": [
      "── \u001b[1mAttaching packages\u001b[22m ─────────────────────────────────────── tidyverse 1.3.0 ──\n",
      "\n",
      "\u001b[32m✔\u001b[39m \u001b[34mggplot2\u001b[39m 3.3.1     \u001b[32m✔\u001b[39m \u001b[34mpurrr  \u001b[39m 0.3.4\n",
      "\u001b[32m✔\u001b[39m \u001b[34mtibble \u001b[39m 3.0.1     \u001b[32m✔\u001b[39m \u001b[34mdplyr  \u001b[39m 1.0.0\n",
      "\u001b[32m✔\u001b[39m \u001b[34mtidyr  \u001b[39m 1.1.0     \u001b[32m✔\u001b[39m \u001b[34mstringr\u001b[39m 1.4.0\n",
      "\u001b[32m✔\u001b[39m \u001b[34mreadr  \u001b[39m 1.3.1     \u001b[32m✔\u001b[39m \u001b[34mforcats\u001b[39m 0.5.0\n",
      "\n",
      "── \u001b[1mConflicts\u001b[22m ────────────────────────────────────────── tidyverse_conflicts() ──\n",
      "\u001b[31m✖\u001b[39m \u001b[34mdplyr\u001b[39m::\u001b[32mfilter()\u001b[39m masks \u001b[34mstats\u001b[39m::filter()\n",
      "\u001b[31m✖\u001b[39m \u001b[34mdplyr\u001b[39m::\u001b[32mlag()\u001b[39m    masks \u001b[34mstats\u001b[39m::lag()\n",
      "\n"
     ]
    }
   ],
   "source": [
    "library(tidyverse)"
   ]
  },
  {
   "cell_type": "code",
   "execution_count": 2,
   "metadata": {},
   "outputs": [
    {
     "data": {
      "text/html": [
       "<table>\n",
       "<caption>A data.frame: 18 × 2</caption>\n",
       "<thead>\n",
       "\t<tr><th scope=col>higher</th><th scope=col>lower</th></tr>\n",
       "\t<tr><th scope=col>&lt;fct&gt;</th><th scope=col>&lt;fct&gt;</th></tr>\n",
       "</thead>\n",
       "<tbody>\n",
       "\t<tr><td>Amoebozoa     </td><td>Amoebozoa                   </td></tr>\n",
       "\t<tr><td>Opisthokonta  </td><td>Animalia, Fungi, Choanozoa  </td></tr>\n",
       "\t<tr><td>Rhizaria      </td><td>Chlorarachneae, Foraminifera</td></tr>\n",
       "\t<tr><td>Alveolata     </td><td>Ciliophora                  </td></tr>\n",
       "\t<tr><td>Alveolata     </td><td>Apicomplexa                 </td></tr>\n",
       "\t<tr><td>Alveolata     </td><td>Dinophyceae                 </td></tr>\n",
       "\t<tr><td>Cryptophyta   </td><td>Cryptophyta                 </td></tr>\n",
       "\t<tr><td>Haptophyta    </td><td>Haptophyta                  </td></tr>\n",
       "\t<tr><td>Stramenopiles </td><td>Bigyra                      </td></tr>\n",
       "\t<tr><td>Stramenopiles </td><td>Bacillariophyceae           </td></tr>\n",
       "\t<tr><td>Stramenopiles </td><td>Chrysophyceae               </td></tr>\n",
       "\t<tr><td>Stramenopiles </td><td>Dictyochophyceae            </td></tr>\n",
       "\t<tr><td>Stramenopiles </td><td>Pelagophyceae               </td></tr>\n",
       "\t<tr><td>Stramenopiles </td><td>Pinguiophyceae              </td></tr>\n",
       "\t<tr><td>Stramenopiles </td><td>Synurophyceae               </td></tr>\n",
       "\t<tr><td>Archaeplastida</td><td>Chlorophyta                 </td></tr>\n",
       "\t<tr><td>Archaeplastida</td><td>Rhodophyta                  </td></tr>\n",
       "\t<tr><td>Archaeplastida</td><td>Glaucophyta                 </td></tr>\n",
       "</tbody>\n",
       "</table>\n"
      ],
      "text/latex": [
       "A data.frame: 18 × 2\n",
       "\\begin{tabular}{ll}\n",
       " higher & lower\\\\\n",
       " <fct> & <fct>\\\\\n",
       "\\hline\n",
       "\t Amoebozoa      & Amoebozoa                   \\\\\n",
       "\t Opisthokonta   & Animalia, Fungi, Choanozoa  \\\\\n",
       "\t Rhizaria       & Chlorarachneae, Foraminifera\\\\\n",
       "\t Alveolata      & Ciliophora                  \\\\\n",
       "\t Alveolata      & Apicomplexa                 \\\\\n",
       "\t Alveolata      & Dinophyceae                 \\\\\n",
       "\t Cryptophyta    & Cryptophyta                 \\\\\n",
       "\t Haptophyta     & Haptophyta                  \\\\\n",
       "\t Stramenopiles  & Bigyra                      \\\\\n",
       "\t Stramenopiles  & Bacillariophyceae           \\\\\n",
       "\t Stramenopiles  & Chrysophyceae               \\\\\n",
       "\t Stramenopiles  & Dictyochophyceae            \\\\\n",
       "\t Stramenopiles  & Pelagophyceae               \\\\\n",
       "\t Stramenopiles  & Pinguiophyceae              \\\\\n",
       "\t Stramenopiles  & Synurophyceae               \\\\\n",
       "\t Archaeplastida & Chlorophyta                 \\\\\n",
       "\t Archaeplastida & Rhodophyta                  \\\\\n",
       "\t Archaeplastida & Glaucophyta                 \\\\\n",
       "\\end{tabular}\n"
      ],
      "text/markdown": [
       "\n",
       "A data.frame: 18 × 2\n",
       "\n",
       "| higher &lt;fct&gt; | lower &lt;fct&gt; |\n",
       "|---|---|\n",
       "| Amoebozoa      | Amoebozoa                    |\n",
       "| Opisthokonta   | Animalia, Fungi, Choanozoa   |\n",
       "| Rhizaria       | Chlorarachneae, Foraminifera |\n",
       "| Alveolata      | Ciliophora                   |\n",
       "| Alveolata      | Apicomplexa                  |\n",
       "| Alveolata      | Dinophyceae                  |\n",
       "| Cryptophyta    | Cryptophyta                  |\n",
       "| Haptophyta     | Haptophyta                   |\n",
       "| Stramenopiles  | Bigyra                       |\n",
       "| Stramenopiles  | Bacillariophyceae            |\n",
       "| Stramenopiles  | Chrysophyceae                |\n",
       "| Stramenopiles  | Dictyochophyceae             |\n",
       "| Stramenopiles  | Pelagophyceae                |\n",
       "| Stramenopiles  | Pinguiophyceae               |\n",
       "| Stramenopiles  | Synurophyceae                |\n",
       "| Archaeplastida | Chlorophyta                  |\n",
       "| Archaeplastida | Rhodophyta                   |\n",
       "| Archaeplastida | Glaucophyta                  |\n",
       "\n"
      ],
      "text/plain": [
       "   higher         lower                       \n",
       "1  Amoebozoa      Amoebozoa                   \n",
       "2  Opisthokonta   Animalia, Fungi, Choanozoa  \n",
       "3  Rhizaria       Chlorarachneae, Foraminifera\n",
       "4  Alveolata      Ciliophora                  \n",
       "5  Alveolata      Apicomplexa                 \n",
       "6  Alveolata      Dinophyceae                 \n",
       "7  Cryptophyta    Cryptophyta                 \n",
       "8  Haptophyta     Haptophyta                  \n",
       "9  Stramenopiles  Bigyra                      \n",
       "10 Stramenopiles  Bacillariophyceae           \n",
       "11 Stramenopiles  Chrysophyceae               \n",
       "12 Stramenopiles  Dictyochophyceae            \n",
       "13 Stramenopiles  Pelagophyceae               \n",
       "14 Stramenopiles  Pinguiophyceae              \n",
       "15 Stramenopiles  Synurophyceae               \n",
       "16 Archaeplastida Chlorophyta                 \n",
       "17 Archaeplastida Rhodophyta                  \n",
       "18 Archaeplastida Glaucophyta                 "
      ]
     },
     "metadata": {},
     "output_type": "display_data"
    }
   ],
   "source": [
    "# Import taxa list to match \n",
    "matchto <- read.delim(\"coesel-taxa-match.txt\"); matchto"
   ]
  },
  {
   "cell_type": "code",
   "execution_count": 3,
   "metadata": {},
   "outputs": [
    {
     "data": {
      "text/html": [
       "<table>\n",
       "<caption>A data.frame: 2 × 41</caption>\n",
       "<thead>\n",
       "\t<tr><th></th><th scope=col>OTU.ID</th><th scope=col>Diel.DNA.19</th><th scope=col>Diel.DNA.4</th><th scope=col>Diel.RNA.6</th><th scope=col>Diel.DNA.10</th><th scope=col>Diel.DNA.11</th><th scope=col>Diel.DNA.12</th><th scope=col>Diel.DNA.13</th><th scope=col>Diel.DNA.14</th><th scope=col>Diel.DNA.15</th><th scope=col>⋯</th><th scope=col>Diel.RNA.11</th><th scope=col>Diel.RNA.13</th><th scope=col>Diel.RNA.2</th><th scope=col>Diel.RNA.3</th><th scope=col>Diel.RNA.4</th><th scope=col>Diel.RNA.5</th><th scope=col>Diel.RNA.7</th><th scope=col>Diel.RNA.8</th><th scope=col>taxonomy</th><th scope=col>rep.seq</th></tr>\n",
       "\t<tr><th></th><th scope=col>&lt;fct&gt;</th><th scope=col>&lt;dbl&gt;</th><th scope=col>&lt;dbl&gt;</th><th scope=col>&lt;dbl&gt;</th><th scope=col>&lt;dbl&gt;</th><th scope=col>&lt;dbl&gt;</th><th scope=col>&lt;dbl&gt;</th><th scope=col>&lt;dbl&gt;</th><th scope=col>&lt;dbl&gt;</th><th scope=col>&lt;dbl&gt;</th><th scope=col>⋯</th><th scope=col>&lt;dbl&gt;</th><th scope=col>&lt;dbl&gt;</th><th scope=col>&lt;dbl&gt;</th><th scope=col>&lt;dbl&gt;</th><th scope=col>&lt;dbl&gt;</th><th scope=col>&lt;dbl&gt;</th><th scope=col>&lt;dbl&gt;</th><th scope=col>&lt;dbl&gt;</th><th scope=col>&lt;fct&gt;</th><th scope=col>&lt;fct&gt;</th></tr>\n",
       "</thead>\n",
       "<tbody>\n",
       "\t<tr><th scope=row>1</th><td>AB353770.1.1740_U</td><td>1</td><td> 1</td><td>1</td><td> 0</td><td>0</td><td> 0</td><td>0</td><td> 0</td><td> 0</td><td>⋯</td><td>0</td><td>0</td><td>0</td><td>0</td><td>0</td><td>0</td><td>0</td><td>0</td><td>Eukaryota; Alveolata; Dinophyta; Dinophyceae; Dinophyceae_X; Dinophyceae_XX; Dinophyceae_XXX; Dinophyceae_XXX+sp.                          </td><td>AGCTCCAATAGCGTATATTAAAGTTGTTGCGGTTAAAAAGCTCGTAGTTGGGCATCTTCTTGGAGAACGTAACTGCACTTGACTGTGTGGTGCGGTACTCAAGACTTTTACTTTGAGGAAATTAGAGTGTTTCAAGCAGGCGCATGCCTTGAATACATTAGCATGGAATAATGAGATAGGACCTTGGTTCTATTTTGTTGGTTTCTAGAGCTGAGGTAATGATTAATAGGGATAGTTGGGGGCATTCGTATTTAACTGTCAGAGGTGAAATTCTTGGATTTGTTAAAGACGGACTACTGCGAAAGCATTTGCCAAGGATGTTTTCATTGATCAAGAACGAAAGT                                                       </td></tr>\n",
       "\t<tr><th scope=row>2</th><td>KF130109.1.1755_U</td><td>9</td><td>14</td><td>2</td><td>12</td><td>4</td><td>41</td><td>1</td><td>15</td><td>15</td><td>⋯</td><td>0</td><td>0</td><td>0</td><td>0</td><td>0</td><td>0</td><td>0</td><td>0</td><td>Eukaryota; Alveolata; Dinophyta; Syndiniales; Dino-Group-II; Dino-Group-II-Clade-14; Dino-Group-II-Clade-14_X; Dino-Group-II-Clade-14_X+sp.</td><td>AGCTCCAATAACGTATATTAAAGTTGTTGCGGTTAAAAAGCTCGTAGTTGGATTTCTGTTGAAAGCGATCGGTCCCCTCTCTGAGGGCGTATCTGACTCGCTTTTGGCATCCTCCTGTAGCACGTTTCTGTCCTTCACTGGATGGAGCGGGATGCAGGACTTTTACTTTGAGGAAATTCGAGTGTTCACAGCAGGCAATCGCCCTGAAGATATTAGCATGGAATAATAATATAGGACCTTGGTTCTATTTTGTTGGTTTCTAGAGCTGAGGTAATGATTAATAGGGATATTTGGGGGCATTCGTACTAACCGGTCAGAGGTGGAATTCTTGGATTCGGTTATGACGAACGACTGCGAAAGCATTTGTCAAGAATGTTTTCATTGATCAAGAACGAAAGT</td></tr>\n",
       "</tbody>\n",
       "</table>\n"
      ],
      "text/latex": [
       "A data.frame: 2 × 41\n",
       "\\begin{tabular}{r|lllllllllllllllllllll}\n",
       "  & OTU.ID & Diel.DNA.19 & Diel.DNA.4 & Diel.RNA.6 & Diel.DNA.10 & Diel.DNA.11 & Diel.DNA.12 & Diel.DNA.13 & Diel.DNA.14 & Diel.DNA.15 & ⋯ & Diel.RNA.11 & Diel.RNA.13 & Diel.RNA.2 & Diel.RNA.3 & Diel.RNA.4 & Diel.RNA.5 & Diel.RNA.7 & Diel.RNA.8 & taxonomy & rep.seq\\\\\n",
       "  & <fct> & <dbl> & <dbl> & <dbl> & <dbl> & <dbl> & <dbl> & <dbl> & <dbl> & <dbl> & ⋯ & <dbl> & <dbl> & <dbl> & <dbl> & <dbl> & <dbl> & <dbl> & <dbl> & <fct> & <fct>\\\\\n",
       "\\hline\n",
       "\t1 & AB353770.1.1740\\_U & 1 &  1 & 1 &  0 & 0 &  0 & 0 &  0 &  0 & ⋯ & 0 & 0 & 0 & 0 & 0 & 0 & 0 & 0 & Eukaryota; Alveolata; Dinophyta; Dinophyceae; Dinophyceae\\_X; Dinophyceae\\_XX; Dinophyceae\\_XXX; Dinophyceae\\_XXX+sp.                           & AGCTCCAATAGCGTATATTAAAGTTGTTGCGGTTAAAAAGCTCGTAGTTGGGCATCTTCTTGGAGAACGTAACTGCACTTGACTGTGTGGTGCGGTACTCAAGACTTTTACTTTGAGGAAATTAGAGTGTTTCAAGCAGGCGCATGCCTTGAATACATTAGCATGGAATAATGAGATAGGACCTTGGTTCTATTTTGTTGGTTTCTAGAGCTGAGGTAATGATTAATAGGGATAGTTGGGGGCATTCGTATTTAACTGTCAGAGGTGAAATTCTTGGATTTGTTAAAGACGGACTACTGCGAAAGCATTTGCCAAGGATGTTTTCATTGATCAAGAACGAAAGT                                                       \\\\\n",
       "\t2 & KF130109.1.1755\\_U & 9 & 14 & 2 & 12 & 4 & 41 & 1 & 15 & 15 & ⋯ & 0 & 0 & 0 & 0 & 0 & 0 & 0 & 0 & Eukaryota; Alveolata; Dinophyta; Syndiniales; Dino-Group-II; Dino-Group-II-Clade-14; Dino-Group-II-Clade-14\\_X; Dino-Group-II-Clade-14\\_X+sp. & AGCTCCAATAACGTATATTAAAGTTGTTGCGGTTAAAAAGCTCGTAGTTGGATTTCTGTTGAAAGCGATCGGTCCCCTCTCTGAGGGCGTATCTGACTCGCTTTTGGCATCCTCCTGTAGCACGTTTCTGTCCTTCACTGGATGGAGCGGGATGCAGGACTTTTACTTTGAGGAAATTCGAGTGTTCACAGCAGGCAATCGCCCTGAAGATATTAGCATGGAATAATAATATAGGACCTTGGTTCTATTTTGTTGGTTTCTAGAGCTGAGGTAATGATTAATAGGGATATTTGGGGGCATTCGTACTAACCGGTCAGAGGTGGAATTCTTGGATTCGGTTATGACGAACGACTGCGAAAGCATTTGTCAAGAATGTTTTCATTGATCAAGAACGAAAGT\\\\\n",
       "\\end{tabular}\n"
      ],
      "text/markdown": [
       "\n",
       "A data.frame: 2 × 41\n",
       "\n",
       "| <!--/--> | OTU.ID &lt;fct&gt; | Diel.DNA.19 &lt;dbl&gt; | Diel.DNA.4 &lt;dbl&gt; | Diel.RNA.6 &lt;dbl&gt; | Diel.DNA.10 &lt;dbl&gt; | Diel.DNA.11 &lt;dbl&gt; | Diel.DNA.12 &lt;dbl&gt; | Diel.DNA.13 &lt;dbl&gt; | Diel.DNA.14 &lt;dbl&gt; | Diel.DNA.15 &lt;dbl&gt; | ⋯ ⋯ | Diel.RNA.11 &lt;dbl&gt; | Diel.RNA.13 &lt;dbl&gt; | Diel.RNA.2 &lt;dbl&gt; | Diel.RNA.3 &lt;dbl&gt; | Diel.RNA.4 &lt;dbl&gt; | Diel.RNA.5 &lt;dbl&gt; | Diel.RNA.7 &lt;dbl&gt; | Diel.RNA.8 &lt;dbl&gt; | taxonomy &lt;fct&gt; | rep.seq &lt;fct&gt; |\n",
       "|---|---|---|---|---|---|---|---|---|---|---|---|---|---|---|---|---|---|---|---|---|---|\n",
       "| 1 | AB353770.1.1740_U | 1 |  1 | 1 |  0 | 0 |  0 | 0 |  0 |  0 | ⋯ | 0 | 0 | 0 | 0 | 0 | 0 | 0 | 0 | Eukaryota; Alveolata; Dinophyta; Dinophyceae; Dinophyceae_X; Dinophyceae_XX; Dinophyceae_XXX; Dinophyceae_XXX+sp.                           | AGCTCCAATAGCGTATATTAAAGTTGTTGCGGTTAAAAAGCTCGTAGTTGGGCATCTTCTTGGAGAACGTAACTGCACTTGACTGTGTGGTGCGGTACTCAAGACTTTTACTTTGAGGAAATTAGAGTGTTTCAAGCAGGCGCATGCCTTGAATACATTAGCATGGAATAATGAGATAGGACCTTGGTTCTATTTTGTTGGTTTCTAGAGCTGAGGTAATGATTAATAGGGATAGTTGGGGGCATTCGTATTTAACTGTCAGAGGTGAAATTCTTGGATTTGTTAAAGACGGACTACTGCGAAAGCATTTGCCAAGGATGTTTTCATTGATCAAGAACGAAAGT                                                        |\n",
       "| 2 | KF130109.1.1755_U | 9 | 14 | 2 | 12 | 4 | 41 | 1 | 15 | 15 | ⋯ | 0 | 0 | 0 | 0 | 0 | 0 | 0 | 0 | Eukaryota; Alveolata; Dinophyta; Syndiniales; Dino-Group-II; Dino-Group-II-Clade-14; Dino-Group-II-Clade-14_X; Dino-Group-II-Clade-14_X+sp. | AGCTCCAATAACGTATATTAAAGTTGTTGCGGTTAAAAAGCTCGTAGTTGGATTTCTGTTGAAAGCGATCGGTCCCCTCTCTGAGGGCGTATCTGACTCGCTTTTGGCATCCTCCTGTAGCACGTTTCTGTCCTTCACTGGATGGAGCGGGATGCAGGACTTTTACTTTGAGGAAATTCGAGTGTTCACAGCAGGCAATCGCCCTGAAGATATTAGCATGGAATAATAATATAGGACCTTGGTTCTATTTTGTTGGTTTCTAGAGCTGAGGTAATGATTAATAGGGATATTTGGGGGCATTCGTACTAACCGGTCAGAGGTGGAATTCTTGGATTCGGTTATGACGAACGACTGCGAAAGCATTTGTCAAGAATGTTTTCATTGATCAAGAACGAAAGT |\n",
       "\n"
      ],
      "text/plain": [
       "  OTU.ID            Diel.DNA.19 Diel.DNA.4 Diel.RNA.6 Diel.DNA.10 Diel.DNA.11\n",
       "1 AB353770.1.1740_U 1            1         1           0          0          \n",
       "2 KF130109.1.1755_U 9           14         2          12          4          \n",
       "  Diel.DNA.12 Diel.DNA.13 Diel.DNA.14 Diel.DNA.15 ⋯ Diel.RNA.11 Diel.RNA.13\n",
       "1  0          0            0           0          ⋯ 0           0          \n",
       "2 41          1           15          15          ⋯ 0           0          \n",
       "  Diel.RNA.2 Diel.RNA.3 Diel.RNA.4 Diel.RNA.5 Diel.RNA.7 Diel.RNA.8\n",
       "1 0          0          0          0          0          0         \n",
       "2 0          0          0          0          0          0         \n",
       "  taxonomy                                                                                                                                   \n",
       "1 Eukaryota; Alveolata; Dinophyta; Dinophyceae; Dinophyceae_X; Dinophyceae_XX; Dinophyceae_XXX; Dinophyceae_XXX+sp.                          \n",
       "2 Eukaryota; Alveolata; Dinophyta; Syndiniales; Dino-Group-II; Dino-Group-II-Clade-14; Dino-Group-II-Clade-14_X; Dino-Group-II-Clade-14_X+sp.\n",
       "  rep.seq                                                                                                                                                                                                                                                                                                                                                                                                        \n",
       "1 AGCTCCAATAGCGTATATTAAAGTTGTTGCGGTTAAAAAGCTCGTAGTTGGGCATCTTCTTGGAGAACGTAACTGCACTTGACTGTGTGGTGCGGTACTCAAGACTTTTACTTTGAGGAAATTAGAGTGTTTCAAGCAGGCGCATGCCTTGAATACATTAGCATGGAATAATGAGATAGGACCTTGGTTCTATTTTGTTGGTTTCTAGAGCTGAGGTAATGATTAATAGGGATAGTTGGGGGCATTCGTATTTAACTGTCAGAGGTGAAATTCTTGGATTTGTTAAAGACGGACTACTGCGAAAGCATTTGCCAAGGATGTTTTCATTGATCAAGAACGAAAGT                                                       \n",
       "2 AGCTCCAATAACGTATATTAAAGTTGTTGCGGTTAAAAAGCTCGTAGTTGGATTTCTGTTGAAAGCGATCGGTCCCCTCTCTGAGGGCGTATCTGACTCGCTTTTGGCATCCTCCTGTAGCACGTTTCTGTCCTTCACTGGATGGAGCGGGATGCAGGACTTTTACTTTGAGGAAATTCGAGTGTTCACAGCAGGCAATCGCCCTGAAGATATTAGCATGGAATAATAATATAGGACCTTGGTTCTATTTTGTTGGTTTCTAGAGCTGAGGTAATGATTAATAGGGATATTTGGGGGCATTCGTACTAACCGGTCAGAGGTGGAATTCTTGGATTCGGTTATGACGAACGACTGCGAAAGCATTTGTCAAGAATGTTTTCATTGATCAAGAACGAAAGT"
      ]
     },
     "metadata": {},
     "output_type": "display_data"
    }
   ],
   "source": [
    "otu_table <- read.delim(\"OTUtable_Diel18S_ALOHA.txt\", sep = \"\\t\", skip = 1)\n",
    "head(otu_table[1:2,])"
   ]
  },
  {
   "cell_type": "code",
   "execution_count": 12,
   "metadata": {},
   "outputs": [],
   "source": [
    "# # series of case_when statements\n",
    "# diel_modified <- otu_table %>% \n",
    "#         select(Taxa = taxonomy, starts_with(\"Diel\")) %>% \n",
    "#         pivot_longer(cols = starts_with(\"Diel\"), names_to = \"SAMPLE\", values_to = \"COUNT\") %>% \n",
    "#     # add high and low level taxonomies to match\n",
    "#     mutate(higher = case_when(\n",
    "#         grepl(\"Alveolata\", Taxa) ~ \"Alveolata\",\n",
    "#         grepl(\"Rhizaria\", Taxa) ~ \"Rhizaria\",\n",
    "#         grepl(\"Opisthoko\", Taxa) ~ \"Opisthokonta\",\n",
    "#         grepl(\"Archaeplastid\", Taxa) ~ \"Archaeplastida\",\n",
    "#         grepl(\"Haptophyt\", Taxa) ~ \"Haptophyta\",\n",
    "#         grepl(\"Stramenopil\", Taxa) ~ \"Stramenopiles\",\n",
    "#         grepl(\"Cryptophyt\", Taxa) ~ \"Cryptophyta\",\n",
    "#         TRUE ~ \"OTHER\"),\n",
    "#           lower = case_when(\n",
    "#         grepl(\"Ciliophora\", Taxa) ~ \"Ciliophora\",\n",
    "#         grepl(\"Dinophyceae\", Taxa) ~ \"Dinophyceae\",\n",
    "#         grepl(\"Syndinial\", Taxa) ~ \"Dinophyceae\",\n",
    "#         grepl(\"Cryptophyt\", Taxa) ~ \"Cryptophyta\",\n",
    "#         grepl(\"Haptophyt\", Taxa) ~ \"Haptophyta\",\n",
    "#         grepl(\"Apicomplexa\", Taxa) ~ \"Apicomplexa\",\n",
    "#         grepl(\"Chlorarachne\", Taxa) ~ \"Chlorarachneae, Foraminifera\",\n",
    "#         grepl(\"Foraminife\", Taxa) ~ \"Chlorarachneae, Foraminifera\",\n",
    "#         grepl(\"Chlorophyt\", Taxa) ~ \"Chlorophyta\",\n",
    "#         grepl(\"Rhodophyta\", Taxa) ~ \"Rhodophyta\",\n",
    "#         grepl(\"Bicosoe\", Taxa) ~ \"Bigyra\",\n",
    "#         grepl(\"Labyrinth\", Taxa) ~ \"Bigyra\",\n",
    "#         grepl(\"Blastocystis\", Taxa) ~ \"Bigyra\",\n",
    "#         grepl(\"Bacillariophyt\", Taxa) ~ \"Bacillariophyceae\",\n",
    "#         grepl(\"Chrysophyce\", Taxa) ~ \"Chrysophyceae\",\n",
    "#         grepl(\"Dictyochophyc\", Taxa) ~ \"Dictyochophyceae\",\n",
    "#         grepl(\"Pelagophy\", Taxa) ~ \"Pelagophyceae\",\n",
    "#         grepl(\"Pinguioph\", Taxa) ~ \"Pinguiophyceae\",\n",
    "#         grepl(\"Fungi\", Taxa) ~ \"Animalia, Fungi, Choanozoa\",\n",
    "#         grepl(\"Metazoa\", Taxa) ~ \"Animalia, Fungi, Choanozoa\",\n",
    "#         grepl(\"Choanoflagella\", Taxa) ~ \"Animalia, Fungi, Choanozoa\",\n",
    "#         TRUE ~ \"OTHER\")) %>% \n",
    "#     data.frame\n",
    "\n",
    "# Pool all \"OTHER\" category together.\n",
    "# series of case_when statements\n",
    "diel_modified <- otu_table %>% \n",
    "        select(Taxa = taxonomy, starts_with(\"Diel\")) %>% \n",
    "        pivot_longer(cols = starts_with(\"Diel\"), names_to = \"SAMPLE\", values_to = \"COUNT\") %>% \n",
    "    # add high and low level taxonomies to match\n",
    "    mutate(higher = case_when(\n",
    "        grepl(\"Alveolata\", Taxa) ~ \"Alveolata\",\n",
    "        grepl(\"Rhizaria\", Taxa) ~ \"Rhizaria\",\n",
    "        grepl(\"Opisthoko\", Taxa) ~ \"Opisthokonta\",\n",
    "        grepl(\"Archaeplastid\", Taxa) ~ \"Archaeplastida\",\n",
    "        grepl(\"Haptophyt\", Taxa) ~ \"Haptophyta\",\n",
    "        grepl(\"Stramenopil\", Taxa) ~ \"Stramenopiles\",\n",
    "        grepl(\"Cryptophyt\", Taxa) ~ \"Cryptophyta\"),\n",
    "          lower = case_when(\n",
    "        grepl(\"Ciliophora\", Taxa) ~ \"Ciliophora\",\n",
    "        grepl(\"Dinophyceae\", Taxa) ~ \"Dinophyceae\",\n",
    "        grepl(\"Syndinial\", Taxa) ~ \"Dinophyceae\",\n",
    "        grepl(\"Cryptophyt\", Taxa) ~ \"Cryptophyta\",\n",
    "        grepl(\"Haptophyt\", Taxa) ~ \"Haptophyta\",\n",
    "        grepl(\"Apicomplexa\", Taxa) ~ \"Apicomplexa\",\n",
    "        grepl(\"Chlorarachne\", Taxa) ~ \"Chlorarachneae, Foraminifera\",\n",
    "        grepl(\"Foraminife\", Taxa) ~ \"Chlorarachneae, Foraminifera\",\n",
    "        grepl(\"Chlorophyt\", Taxa) ~ \"Chlorophyta\",\n",
    "        grepl(\"Rhodophyta\", Taxa) ~ \"Rhodophyta\",\n",
    "        grepl(\"Bicosoe\", Taxa) ~ \"Bigyra\",\n",
    "        grepl(\"Labyrinth\", Taxa) ~ \"Bigyra\",\n",
    "        grepl(\"Blastocystis\", Taxa) ~ \"Bigyra\",\n",
    "        grepl(\"Bacillariophyt\", Taxa) ~ \"Bacillariophyceae\",\n",
    "        grepl(\"Chrysophyce\", Taxa) ~ \"Chrysophyceae\",\n",
    "        grepl(\"Dictyochophyc\", Taxa) ~ \"Dictyochophyceae\",\n",
    "        grepl(\"Pelagophy\", Taxa) ~ \"Pelagophyceae\",\n",
    "        grepl(\"Pinguioph\", Taxa) ~ \"Pinguiophyceae\",\n",
    "        grepl(\"Fungi\", Taxa) ~ \"Animalia, Fungi, Choanozoa\",\n",
    "        grepl(\"Metazoa\", Taxa) ~ \"Animalia, Fungi, Choanozoa\",\n",
    "        grepl(\"Choanoflagella\", Taxa) ~ \"Animalia, Fungi, Choanozoa\")) %>% \n",
    "    mutate(lower = replace_na(lower, \"Other\")) %>% \n",
    "    mutate(higher = case_when(\n",
    "        lower == \"Other\" ~ \"Other\",\n",
    "        TRUE ~ higher)) %>% \n",
    "    data.frame"
   ]
  },
  {
   "cell_type": "code",
   "execution_count": 13,
   "metadata": {},
   "outputs": [
    {
     "data": {
      "text/html": [
       "<table>\n",
       "<caption>A data.frame: 14 × 2</caption>\n",
       "<thead>\n",
       "\t<tr><th scope=col>higher</th><th scope=col>lower</th></tr>\n",
       "\t<tr><th scope=col>&lt;chr&gt;</th><th scope=col>&lt;chr&gt;</th></tr>\n",
       "</thead>\n",
       "<tbody>\n",
       "\t<tr><td>Alveolata     </td><td>Dinophyceae                 </td></tr>\n",
       "\t<tr><td>Alveolata     </td><td>Ciliophora                  </td></tr>\n",
       "\t<tr><td>Stramenopiles </td><td>Chrysophyceae               </td></tr>\n",
       "\t<tr><td>Opisthokonta  </td><td>Animalia, Fungi, Choanozoa  </td></tr>\n",
       "\t<tr><td>Other         </td><td>Other                       </td></tr>\n",
       "\t<tr><td>Haptophyta    </td><td>Haptophyta                  </td></tr>\n",
       "\t<tr><td>Stramenopiles </td><td>Pelagophyceae               </td></tr>\n",
       "\t<tr><td>Stramenopiles </td><td>Bacillariophyceae           </td></tr>\n",
       "\t<tr><td>Archaeplastida</td><td>Chlorophyta                 </td></tr>\n",
       "\t<tr><td>Stramenopiles </td><td>Dictyochophyceae            </td></tr>\n",
       "\t<tr><td>Stramenopiles </td><td>Bigyra                      </td></tr>\n",
       "\t<tr><td>Cryptophyta   </td><td>Cryptophyta                 </td></tr>\n",
       "\t<tr><td>Stramenopiles </td><td>Pinguiophyceae              </td></tr>\n",
       "\t<tr><td>Rhizaria      </td><td>Chlorarachneae, Foraminifera</td></tr>\n",
       "</tbody>\n",
       "</table>\n"
      ],
      "text/latex": [
       "A data.frame: 14 × 2\n",
       "\\begin{tabular}{ll}\n",
       " higher & lower\\\\\n",
       " <chr> & <chr>\\\\\n",
       "\\hline\n",
       "\t Alveolata      & Dinophyceae                 \\\\\n",
       "\t Alveolata      & Ciliophora                  \\\\\n",
       "\t Stramenopiles  & Chrysophyceae               \\\\\n",
       "\t Opisthokonta   & Animalia, Fungi, Choanozoa  \\\\\n",
       "\t Other          & Other                       \\\\\n",
       "\t Haptophyta     & Haptophyta                  \\\\\n",
       "\t Stramenopiles  & Pelagophyceae               \\\\\n",
       "\t Stramenopiles  & Bacillariophyceae           \\\\\n",
       "\t Archaeplastida & Chlorophyta                 \\\\\n",
       "\t Stramenopiles  & Dictyochophyceae            \\\\\n",
       "\t Stramenopiles  & Bigyra                      \\\\\n",
       "\t Cryptophyta    & Cryptophyta                 \\\\\n",
       "\t Stramenopiles  & Pinguiophyceae              \\\\\n",
       "\t Rhizaria       & Chlorarachneae, Foraminifera\\\\\n",
       "\\end{tabular}\n"
      ],
      "text/markdown": [
       "\n",
       "A data.frame: 14 × 2\n",
       "\n",
       "| higher &lt;chr&gt; | lower &lt;chr&gt; |\n",
       "|---|---|\n",
       "| Alveolata      | Dinophyceae                  |\n",
       "| Alveolata      | Ciliophora                   |\n",
       "| Stramenopiles  | Chrysophyceae                |\n",
       "| Opisthokonta   | Animalia, Fungi, Choanozoa   |\n",
       "| Other          | Other                        |\n",
       "| Haptophyta     | Haptophyta                   |\n",
       "| Stramenopiles  | Pelagophyceae                |\n",
       "| Stramenopiles  | Bacillariophyceae            |\n",
       "| Archaeplastida | Chlorophyta                  |\n",
       "| Stramenopiles  | Dictyochophyceae             |\n",
       "| Stramenopiles  | Bigyra                       |\n",
       "| Cryptophyta    | Cryptophyta                  |\n",
       "| Stramenopiles  | Pinguiophyceae               |\n",
       "| Rhizaria       | Chlorarachneae, Foraminifera |\n",
       "\n"
      ],
      "text/plain": [
       "   higher         lower                       \n",
       "1  Alveolata      Dinophyceae                 \n",
       "2  Alveolata      Ciliophora                  \n",
       "3  Stramenopiles  Chrysophyceae               \n",
       "4  Opisthokonta   Animalia, Fungi, Choanozoa  \n",
       "5  Other          Other                       \n",
       "6  Haptophyta     Haptophyta                  \n",
       "7  Stramenopiles  Pelagophyceae               \n",
       "8  Stramenopiles  Bacillariophyceae           \n",
       "9  Archaeplastida Chlorophyta                 \n",
       "10 Stramenopiles  Dictyochophyceae            \n",
       "11 Stramenopiles  Bigyra                      \n",
       "12 Cryptophyta    Cryptophyta                 \n",
       "13 Stramenopiles  Pinguiophyceae              \n",
       "14 Rhizaria       Chlorarachneae, Foraminifera"
      ]
     },
     "metadata": {},
     "output_type": "display_data"
    }
   ],
   "source": [
    "# View taxa lists\n",
    "select(diel_modified, higher, lower) %>% distinct()\n",
    "# matchto"
   ]
  },
  {
   "cell_type": "code",
   "execution_count": 14,
   "metadata": {},
   "outputs": [
    {
     "data": {
      "text/html": [
       "<table>\n",
       "<caption>A data.frame: 6 × 6</caption>\n",
       "<thead>\n",
       "\t<tr><th></th><th scope=col>higher</th><th scope=col>lower</th><th scope=col>MATERIAL</th><th scope=col>MEAN</th><th scope=col>STD</th><th scope=col>PERC</th></tr>\n",
       "\t<tr><th></th><th scope=col>&lt;chr&gt;</th><th scope=col>&lt;chr&gt;</th><th scope=col>&lt;chr&gt;</th><th scope=col>&lt;dbl&gt;</th><th scope=col>&lt;dbl&gt;</th><th scope=col>&lt;dbl&gt;</th></tr>\n",
       "</thead>\n",
       "<tbody>\n",
       "\t<tr><th scope=row>1</th><td>Alveolata     </td><td>Ciliophora </td><td>DNA</td><td>  2751.6316</td><td> 1833.7300</td><td> 1.412</td></tr>\n",
       "\t<tr><th scope=row>2</th><td>Alveolata     </td><td>Ciliophora </td><td>RNA</td><td> 25851.8947</td><td>16315.8780</td><td>16.416</td></tr>\n",
       "\t<tr><th scope=row>3</th><td>Alveolata     </td><td>Dinophyceae</td><td>DNA</td><td>128822.8421</td><td>30053.4180</td><td>66.082</td></tr>\n",
       "\t<tr><th scope=row>4</th><td>Alveolata     </td><td>Dinophyceae</td><td>RNA</td><td> 47884.5789</td><td>18669.3934</td><td>30.407</td></tr>\n",
       "\t<tr><th scope=row>5</th><td>Archaeplastida</td><td>Chlorophyta</td><td>DNA</td><td>   551.0000</td><td>  343.2880</td><td> 0.283</td></tr>\n",
       "\t<tr><th scope=row>6</th><td>Archaeplastida</td><td>Chlorophyta</td><td>RNA</td><td>   327.0526</td><td>  157.2067</td><td> 0.208</td></tr>\n",
       "</tbody>\n",
       "</table>\n"
      ],
      "text/latex": [
       "A data.frame: 6 × 6\n",
       "\\begin{tabular}{r|llllll}\n",
       "  & higher & lower & MATERIAL & MEAN & STD & PERC\\\\\n",
       "  & <chr> & <chr> & <chr> & <dbl> & <dbl> & <dbl>\\\\\n",
       "\\hline\n",
       "\t1 & Alveolata      & Ciliophora  & DNA &   2751.6316 &  1833.7300 &  1.412\\\\\n",
       "\t2 & Alveolata      & Ciliophora  & RNA &  25851.8947 & 16315.8780 & 16.416\\\\\n",
       "\t3 & Alveolata      & Dinophyceae & DNA & 128822.8421 & 30053.4180 & 66.082\\\\\n",
       "\t4 & Alveolata      & Dinophyceae & RNA &  47884.5789 & 18669.3934 & 30.407\\\\\n",
       "\t5 & Archaeplastida & Chlorophyta & DNA &    551.0000 &   343.2880 &  0.283\\\\\n",
       "\t6 & Archaeplastida & Chlorophyta & RNA &    327.0526 &   157.2067 &  0.208\\\\\n",
       "\\end{tabular}\n"
      ],
      "text/markdown": [
       "\n",
       "A data.frame: 6 × 6\n",
       "\n",
       "| <!--/--> | higher &lt;chr&gt; | lower &lt;chr&gt; | MATERIAL &lt;chr&gt; | MEAN &lt;dbl&gt; | STD &lt;dbl&gt; | PERC &lt;dbl&gt; |\n",
       "|---|---|---|---|---|---|---|\n",
       "| 1 | Alveolata      | Ciliophora  | DNA |   2751.6316 |  1833.7300 |  1.412 |\n",
       "| 2 | Alveolata      | Ciliophora  | RNA |  25851.8947 | 16315.8780 | 16.416 |\n",
       "| 3 | Alveolata      | Dinophyceae | DNA | 128822.8421 | 30053.4180 | 66.082 |\n",
       "| 4 | Alveolata      | Dinophyceae | RNA |  47884.5789 | 18669.3934 | 30.407 |\n",
       "| 5 | Archaeplastida | Chlorophyta | DNA |    551.0000 |   343.2880 |  0.283 |\n",
       "| 6 | Archaeplastida | Chlorophyta | RNA |    327.0526 |   157.2067 |  0.208 |\n",
       "\n"
      ],
      "text/plain": [
       "  higher         lower       MATERIAL MEAN        STD        PERC  \n",
       "1 Alveolata      Ciliophora  DNA        2751.6316  1833.7300  1.412\n",
       "2 Alveolata      Ciliophora  RNA       25851.8947 16315.8780 16.416\n",
       "3 Alveolata      Dinophyceae DNA      128822.8421 30053.4180 66.082\n",
       "4 Alveolata      Dinophyceae RNA       47884.5789 18669.3934 30.407\n",
       "5 Archaeplastida Chlorophyta DNA         551.0000   343.2880  0.283\n",
       "6 Archaeplastida Chlorophyta RNA         327.0526   157.2067  0.208"
      ]
     },
     "metadata": {},
     "output_type": "display_data"
    }
   ],
   "source": [
    "# Summarise and calculate mean/std dev\n",
    "diel_modified_summary <- diel_modified %>% \n",
    "    separate(SAMPLE, c(\"DIEL\", \"MATERIAL\", \"SAMPLEID\"), sep = \"\\\\.\") %>% \n",
    "    select(-DIEL) %>% \n",
    "    group_by(higher, lower, MATERIAL, SAMPLEID) %>% \n",
    "    # Sum by taxonomic designation within samples\n",
    "    summarise(total = sum(COUNT),\n",
    "             .groups = \"rowwise\") %>% \n",
    "    ungroup() %>% \n",
    "    # Average and std dev across all samples\n",
    "    group_by(higher, lower, MATERIAL) %>% \n",
    "    summarise(MEAN = mean(total),\n",
    "              STD = sd(total),\n",
    "             .groups = \"rowwise\") %>%\n",
    "    ungroup() %>% \n",
    "    # Average\n",
    "    group_by(MATERIAL) %>% \n",
    "    mutate(PERC = round(100*(MEAN/sum(MEAN)), 3)) %>% \n",
    "    data.frame\n",
    "head(diel_modified_summary)"
   ]
  },
  {
   "cell_type": "code",
   "execution_count": 15,
   "metadata": {},
   "outputs": [],
   "source": [
    "# Write RNA and DNA-based table\n",
    "write.csv(filter(diel_modified_summary, MATERIAL == \"DNA\"), file = \"DNA-taxa-summary-DIEL-24-07-2020.csv\")\n",
    "write.csv(filter(diel_modified_summary, MATERIAL == \"RNA\"), file = \"RNA-taxa-summary-DIEL-24-07-2020.csv\")"
   ]
  },
  {
   "cell_type": "code",
   "execution_count": 8,
   "metadata": {},
   "outputs": [],
   "source": [
    "## END"
   ]
  }
 ],
 "metadata": {
  "kernelspec": {
   "display_name": "R",
   "language": "R",
   "name": "ir"
  },
  "language_info": {
   "codemirror_mode": "r",
   "file_extension": ".r",
   "mimetype": "text/x-r-source",
   "name": "R",
   "pygments_lexer": "r",
   "version": "3.6.1"
  }
 },
 "nbformat": 4,
 "nbformat_minor": 4
}
